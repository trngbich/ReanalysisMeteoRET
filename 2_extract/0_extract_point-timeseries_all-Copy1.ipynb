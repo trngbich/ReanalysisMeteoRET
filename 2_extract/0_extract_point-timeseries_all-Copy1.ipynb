{
 "cells": [
  {
   "cell_type": "code",
   "execution_count": 3,
   "id": "5e83177d-d000-4fb0-8c0b-a1cf152bcd1b",
   "metadata": {},
   "outputs": [],
   "source": [
    "import xarray as xr\n",
    "import pandas as pd\n",
    "import matplotlib.pyplot as plt\n",
    "import os\n",
    "import glob\n",
    "from tqdm import tqdm"
   ]
  },
  {
   "cell_type": "code",
   "execution_count": 10,
   "id": "6eb1b967-b3fe-4ceb-bc9e-0471c6b552a1",
   "metadata": {},
   "outputs": [
    {
     "data": {
      "text/html": [
       "<div>\n",
       "<style scoped>\n",
       "    .dataframe tbody tr th:only-of-type {\n",
       "        vertical-align: middle;\n",
       "    }\n",
       "\n",
       "    .dataframe tbody tr th {\n",
       "        vertical-align: top;\n",
       "    }\n",
       "\n",
       "    .dataframe thead th {\n",
       "        text-align: right;\n",
       "    }\n",
       "</style>\n",
       "<table border=\"1\" class=\"dataframe\">\n",
       "  <thead>\n",
       "    <tr style=\"text-align: right;\">\n",
       "      <th></th>\n",
       "      <th>Station</th>\n",
       "      <th>latitude</th>\n",
       "      <th>longitude</th>\n",
       "      <th>Network</th>\n",
       "    </tr>\n",
       "  </thead>\n",
       "  <tbody>\n",
       "    <tr>\n",
       "      <th>0</th>\n",
       "      <td>Kafr Et-Shaikh</td>\n",
       "      <td>31.096580</td>\n",
       "      <td>30.922310</td>\n",
       "      <td>NENAETnet</td>\n",
       "    </tr>\n",
       "    <tr>\n",
       "      <th>1</th>\n",
       "      <td>Jordan</td>\n",
       "      <td>32.190520</td>\n",
       "      <td>35.617580</td>\n",
       "      <td>NENAETnet</td>\n",
       "    </tr>\n",
       "    <tr>\n",
       "      <th>2</th>\n",
       "      <td>Tal Amara</td>\n",
       "      <td>33.856870</td>\n",
       "      <td>35.986710</td>\n",
       "      <td>NENAETnet</td>\n",
       "    </tr>\n",
       "    <tr>\n",
       "      <th>3</th>\n",
       "      <td>Sakha</td>\n",
       "      <td>31.264440</td>\n",
       "      <td>30.768330</td>\n",
       "      <td>NENAETnet</td>\n",
       "    </tr>\n",
       "    <tr>\n",
       "      <th>4</th>\n",
       "      <td>Dyar Ala</td>\n",
       "      <td>32.316670</td>\n",
       "      <td>35.578610</td>\n",
       "      <td>NENAETnet</td>\n",
       "    </tr>\n",
       "    <tr>\n",
       "      <th>...</th>\n",
       "      <td>...</td>\n",
       "      <td>...</td>\n",
       "      <td>...</td>\n",
       "      <td>...</td>\n",
       "    </tr>\n",
       "    <tr>\n",
       "      <th>206</th>\n",
       "      <td>Aniabisi Middleslope</td>\n",
       "      <td>-0.912185</td>\n",
       "      <td>10.845716</td>\n",
       "      <td>WASCAL</td>\n",
       "    </tr>\n",
       "    <tr>\n",
       "      <th>207</th>\n",
       "      <td>Aniabisi Upslope</td>\n",
       "      <td>-0.910629</td>\n",
       "      <td>10.847251</td>\n",
       "      <td>WASCAL</td>\n",
       "    </tr>\n",
       "    <tr>\n",
       "      <th>208</th>\n",
       "      <td>Bongo Atampisi</td>\n",
       "      <td>-0.826477</td>\n",
       "      <td>10.915014</td>\n",
       "      <td>WASCAL</td>\n",
       "    </tr>\n",
       "    <tr>\n",
       "      <th>209</th>\n",
       "      <td>Bongo Soe</td>\n",
       "      <td>-0.782754</td>\n",
       "      <td>10.972921</td>\n",
       "      <td>WASCAL</td>\n",
       "    </tr>\n",
       "    <tr>\n",
       "      <th>210</th>\n",
       "      <td>Manyoro</td>\n",
       "      <td>-0.995891</td>\n",
       "      <td>10.981431</td>\n",
       "      <td>WASCAL</td>\n",
       "    </tr>\n",
       "  </tbody>\n",
       "</table>\n",
       "<p>211 rows × 4 columns</p>\n",
       "</div>"
      ],
      "text/plain": [
       "                  Station   latitude  longitude    Network\n",
       "0          Kafr Et-Shaikh  31.096580  30.922310  NENAETnet\n",
       "1                  Jordan  32.190520  35.617580  NENAETnet\n",
       "2               Tal Amara  33.856870  35.986710  NENAETnet\n",
       "3                   Sakha  31.264440  30.768330  NENAETnet\n",
       "4                Dyar Ala  32.316670  35.578610  NENAETnet\n",
       "..                    ...        ...        ...        ...\n",
       "206  Aniabisi Middleslope  -0.912185  10.845716     WASCAL\n",
       "207      Aniabisi Upslope  -0.910629  10.847251     WASCAL\n",
       "208        Bongo Atampisi  -0.826477  10.915014     WASCAL\n",
       "209             Bongo Soe  -0.782754  10.972921     WASCAL\n",
       "210               Manyoro  -0.995891  10.981431     WASCAL\n",
       "\n",
       "[211 rows x 4 columns]"
      ]
     },
     "execution_count": 10,
     "metadata": {},
     "output_type": "execute_result"
    }
   ],
   "source": [
    "stations_csv = r\"D:\\Doctorate\\Shared\\research\\2_ETLook\\1_meteo_data_QA\\Stations.csv\"\n",
    "df_stations = pd.read_csv(stations_csv, sep=';')\n",
    "df_stations"
   ]
  },
  {
   "cell_type": "markdown",
   "id": "560770ab-e73f-4ae9-8aac-3cedf56b4bed",
   "metadata": {
    "tags": []
   },
   "source": [
    "# GEOS5 (hourly, daily)"
   ]
  },
  {
   "cell_type": "markdown",
   "id": "c8280680-362e-41ae-807b-76bbbfa3c3eb",
   "metadata": {
    "jp-MarkdownHeadingCollapsed": true,
    "tags": []
   },
   "source": [
    "## Daily"
   ]
  },
  {
   "cell_type": "code",
   "execution_count": 10,
   "id": "c096468a-2d83-40f2-b8da-8e9847c30ca1",
   "metadata": {},
   "outputs": [],
   "source": [
    "nc_folder = r\"E:\\WaPORQA\\GEOS5\\Processed\\Daily\"\n",
    "save_folder = r\".\\data\\GEOS5\\daily\"\n",
    "data_fhs = glob.glob(os.path.join(nc_folder, \"*.nc\"))\n",
    "dts = xr.open_mfdataset(data_fhs)\n",
    "req_vars=[\"t_air\", \"p_air\",\"u\",\"vp\",\"ra\"]                    "
   ]
  },
  {
   "cell_type": "code",
   "execution_count": null,
   "id": "6e85d29c-4894-4229-b6c8-4673305cf0c4",
   "metadata": {},
   "outputs": [
    {
     "data": {
      "text/html": [
       "<div>\n",
       "<style scoped>\n",
       "    .dataframe tbody tr th:only-of-type {\n",
       "        vertical-align: middle;\n",
       "    }\n",
       "\n",
       "    .dataframe tbody tr th {\n",
       "        vertical-align: top;\n",
       "    }\n",
       "\n",
       "    .dataframe thead th {\n",
       "        text-align: right;\n",
       "    }\n",
       "</style>\n",
       "<table border=\"1\" class=\"dataframe\">\n",
       "  <thead>\n",
       "    <tr style=\"text-align: right;\">\n",
       "      <th></th>\n",
       "      <th>lat</th>\n",
       "      <th>lon</th>\n",
       "      <th>t_air</th>\n",
       "      <th>p_air_0</th>\n",
       "      <th>p_air</th>\n",
       "      <th>u</th>\n",
       "      <th>vp</th>\n",
       "      <th>ra</th>\n",
       "    </tr>\n",
       "    <tr>\n",
       "      <th>time</th>\n",
       "      <th></th>\n",
       "      <th></th>\n",
       "      <th></th>\n",
       "      <th></th>\n",
       "      <th></th>\n",
       "      <th></th>\n",
       "      <th></th>\n",
       "      <th></th>\n",
       "    </tr>\n",
       "  </thead>\n",
       "  <tbody>\n",
       "    <tr>\n",
       "      <th>2018-01-01</th>\n",
       "      <td>-1.0</td>\n",
       "      <td>10.9375</td>\n",
       "      <td>23.742920</td>\n",
       "      <td>1011.150635</td>\n",
       "      <td>972.654480</td>\n",
       "      <td>1.341573</td>\n",
       "      <td>27.171141</td>\n",
       "      <td>125.186523</td>\n",
       "    </tr>\n",
       "    <tr>\n",
       "      <th>2018-01-02</th>\n",
       "      <td>-1.0</td>\n",
       "      <td>10.9375</td>\n",
       "      <td>24.740715</td>\n",
       "      <td>1009.509827</td>\n",
       "      <td>971.186279</td>\n",
       "      <td>0.983899</td>\n",
       "      <td>25.813898</td>\n",
       "      <td>218.105957</td>\n",
       "    </tr>\n",
       "    <tr>\n",
       "      <th>2018-01-03</th>\n",
       "      <td>-1.0</td>\n",
       "      <td>10.9375</td>\n",
       "      <td>24.659891</td>\n",
       "      <td>1010.004578</td>\n",
       "      <td>971.646973</td>\n",
       "      <td>1.248063</td>\n",
       "      <td>27.455050</td>\n",
       "      <td>214.526184</td>\n",
       "    </tr>\n",
       "    <tr>\n",
       "      <th>2018-01-04</th>\n",
       "      <td>-1.0</td>\n",
       "      <td>10.9375</td>\n",
       "      <td>23.537386</td>\n",
       "      <td>1012.426270</td>\n",
       "      <td>973.797668</td>\n",
       "      <td>1.240712</td>\n",
       "      <td>25.897804</td>\n",
       "      <td>115.742920</td>\n",
       "    </tr>\n",
       "    <tr>\n",
       "      <th>2018-01-05</th>\n",
       "      <td>-1.0</td>\n",
       "      <td>10.9375</td>\n",
       "      <td>24.200689</td>\n",
       "      <td>1011.702637</td>\n",
       "      <td>973.074463</td>\n",
       "      <td>1.303560</td>\n",
       "      <td>25.368692</td>\n",
       "      <td>248.851562</td>\n",
       "    </tr>\n",
       "    <tr>\n",
       "      <th>...</th>\n",
       "      <td>...</td>\n",
       "      <td>...</td>\n",
       "      <td>...</td>\n",
       "      <td>...</td>\n",
       "      <td>...</td>\n",
       "      <td>...</td>\n",
       "      <td>...</td>\n",
       "      <td>...</td>\n",
       "    </tr>\n",
       "    <tr>\n",
       "      <th>2022-12-27</th>\n",
       "      <td>-1.0</td>\n",
       "      <td>10.9375</td>\n",
       "      <td>24.289894</td>\n",
       "      <td>1011.331482</td>\n",
       "      <td>972.839661</td>\n",
       "      <td>0.493372</td>\n",
       "      <td>25.889711</td>\n",
       "      <td>237.046753</td>\n",
       "    </tr>\n",
       "    <tr>\n",
       "      <th>2022-12-28</th>\n",
       "      <td>-1.0</td>\n",
       "      <td>10.9375</td>\n",
       "      <td>24.604683</td>\n",
       "      <td>1011.260742</td>\n",
       "      <td>972.818176</td>\n",
       "      <td>0.569317</td>\n",
       "      <td>25.979599</td>\n",
       "      <td>252.493774</td>\n",
       "    </tr>\n",
       "    <tr>\n",
       "      <th>2022-12-29</th>\n",
       "      <td>-1.0</td>\n",
       "      <td>10.9375</td>\n",
       "      <td>24.587637</td>\n",
       "      <td>1010.671631</td>\n",
       "      <td>972.253113</td>\n",
       "      <td>0.597025</td>\n",
       "      <td>26.435722</td>\n",
       "      <td>236.765076</td>\n",
       "    </tr>\n",
       "    <tr>\n",
       "      <th>2022-12-30</th>\n",
       "      <td>-1.0</td>\n",
       "      <td>10.9375</td>\n",
       "      <td>24.335516</td>\n",
       "      <td>1011.620117</td>\n",
       "      <td>973.163269</td>\n",
       "      <td>0.643758</td>\n",
       "      <td>26.154907</td>\n",
       "      <td>229.623047</td>\n",
       "    </tr>\n",
       "    <tr>\n",
       "      <th>2022-12-31</th>\n",
       "      <td>-1.0</td>\n",
       "      <td>10.9375</td>\n",
       "      <td>24.656326</td>\n",
       "      <td>1011.258728</td>\n",
       "      <td>972.762756</td>\n",
       "      <td>0.567184</td>\n",
       "      <td>26.815321</td>\n",
       "      <td>250.321365</td>\n",
       "    </tr>\n",
       "  </tbody>\n",
       "</table>\n",
       "<p>1826 rows × 8 columns</p>\n",
       "</div>"
      ],
      "text/plain": [
       "            lat      lon      t_air      p_air_0       p_air         u  \\\n",
       "time                                                                     \n",
       "2018-01-01 -1.0  10.9375  23.742920  1011.150635  972.654480  1.341573   \n",
       "2018-01-02 -1.0  10.9375  24.740715  1009.509827  971.186279  0.983899   \n",
       "2018-01-03 -1.0  10.9375  24.659891  1010.004578  971.646973  1.248063   \n",
       "2018-01-04 -1.0  10.9375  23.537386  1012.426270  973.797668  1.240712   \n",
       "2018-01-05 -1.0  10.9375  24.200689  1011.702637  973.074463  1.303560   \n",
       "...         ...      ...        ...          ...         ...       ...   \n",
       "2022-12-27 -1.0  10.9375  24.289894  1011.331482  972.839661  0.493372   \n",
       "2022-12-28 -1.0  10.9375  24.604683  1011.260742  972.818176  0.569317   \n",
       "2022-12-29 -1.0  10.9375  24.587637  1010.671631  972.253113  0.597025   \n",
       "2022-12-30 -1.0  10.9375  24.335516  1011.620117  973.163269  0.643758   \n",
       "2022-12-31 -1.0  10.9375  24.656326  1011.258728  972.762756  0.567184   \n",
       "\n",
       "                   vp          ra  \n",
       "time                               \n",
       "2018-01-01  27.171141  125.186523  \n",
       "2018-01-02  25.813898  218.105957  \n",
       "2018-01-03  27.455050  214.526184  \n",
       "2018-01-04  25.897804  115.742920  \n",
       "2018-01-05  25.368692  248.851562  \n",
       "...               ...         ...  \n",
       "2022-12-27  25.889711  237.046753  \n",
       "2022-12-28  25.979599  252.493774  \n",
       "2022-12-29  26.435722  236.765076  \n",
       "2022-12-30  26.154907  229.623047  \n",
       "2022-12-31  26.815321  250.321365  \n",
       "\n",
       "[1826 rows x 8 columns]"
      ]
     },
     "execution_count": 16,
     "metadata": {},
     "output_type": "execute_result"
    }
   ],
   "source": [
    "time_series = dts.sel(lat=row['latitude'], lon=row['longitude'], \n",
    "                            method='nearest') #Method: Nearest pixel\n",
    "time_series.to_dataframe()"
   ]
  },
  {
   "cell_type": "code",
   "execution_count": 18,
   "id": "369ab16e-3cec-4993-aafd-2108ff37b29b",
   "metadata": {
    "scrolled": true,
    "tags": []
   },
   "outputs": [],
   "source": [
    "for i,row in df_stations.iterrows():\n",
    "    filename = row[\"Network\"]+\"_\"+row['Station']+\".csv\"\n",
    "    filepath = os.path.join(save_folder, filename)\n",
    "    time_series = dts.sel(lat=row['latitude'], lon=row['longitude'], \n",
    "                                method='nearest') #Method: Nearest pixel\n",
    "    time_series.to_dataframe().to_csv(filepath)\n",
    "    "
   ]
  },
  {
   "cell_type": "markdown",
   "id": "376aa98e-0e6b-41cc-a806-401fb42bb9b1",
   "metadata": {
    "jp-MarkdownHeadingCollapsed": true,
    "tags": []
   },
   "source": [
    "## Hourly"
   ]
  },
  {
   "cell_type": "code",
   "execution_count": 3,
   "id": "9288d399-5f77-4e5e-8b14-a201143564d9",
   "metadata": {},
   "outputs": [
    {
     "name": "stderr",
     "output_type": "stream",
     "text": [
      "\n",
      "KeyboardInterrupt\n",
      "\n"
     ]
    }
   ],
   "source": [
    "nc_folder = r\"E:\\WaPORQA\\GEOS5\\Processed\"\n",
    "save_folder = r\".\\data\\GEOS5\\hourly\"\n",
    "data_fhs = glob.glob(os.path.join(nc_folder, \"*.nc\"))\n",
    "dts = xr.open_mfdataset(data_fhs)\n",
    "req_vars=[\"t_air\", \"p_air\",\"u\",\"vp\",\"ra\"]     \n",
    "\n",
    "for i,row in df_stations.iterrows():\n",
    "    filename = row[\"Network\"]+\"_\"+row['Station']+\".csv\"\n",
    "    filepath = os.path.join(save_folder, filename)\n",
    "    time_series = dts.sel(lat=row['latitude'], lon=row['longitude'], \n",
    "                                method='nearest') #Method: Nearest pixel\n",
    "    time_series.to_dataframe().to_csv(filepath)\n",
    "    "
   ]
  },
  {
   "cell_type": "markdown",
   "id": "8753893e-5f9d-4464-9fd2-e4d484a7bcb0",
   "metadata": {},
   "source": [
    "# ERA5 (hourly, daily)"
   ]
  },
  {
   "cell_type": "raw",
   "id": "ecd5c65f-5580-4488-a8db-c6671d0f9366",
   "metadata": {},
   "source": [
    "nc_folder = r\"E:\\WaPORQA\\ERA5\\Processed\\Daily\"\n",
    "save_folder = r\".\\data\\ERA5\\daily\"\n",
    "data_fhs = glob.glob(os.path.join(nc_folder, \"*.nc\"))\n",
    "dts = xr.open_mfdataset(data_fhs)\n",
    "req_vars=[\"t_air\", \"p_air\",\"u\",\"vp\",\"ra\"]     \n",
    "\n",
    "for i,row in df_stations.iterrows():\n",
    "    filename = row[\"Network\"]+\"_\"+row['Station']+\".csv\"\n",
    "    filepath = os.path.join(save_folder, filename)\n",
    "    time_series = dts.sel(latitude=row['latitude'], longitude=row['longitude'], \n",
    "                                method='nearest') #Method: Nearest pixel\n",
    "    time_series.to_dataframe().to_csv(filepath)\n",
    "    "
   ]
  },
  {
   "cell_type": "code",
   "execution_count": 11,
   "id": "31253fd3-20e6-4b37-83be-9ee5ed5698fb",
   "metadata": {},
   "outputs": [
    {
     "data": {
      "text/html": [
       "<div>\n",
       "<style scoped>\n",
       "    .dataframe tbody tr th:only-of-type {\n",
       "        vertical-align: middle;\n",
       "    }\n",
       "\n",
       "    .dataframe tbody tr th {\n",
       "        vertical-align: top;\n",
       "    }\n",
       "\n",
       "    .dataframe thead th {\n",
       "        text-align: right;\n",
       "    }\n",
       "</style>\n",
       "<table border=\"1\" class=\"dataframe\">\n",
       "  <thead>\n",
       "    <tr style=\"text-align: right;\">\n",
       "      <th></th>\n",
       "      <th>Station</th>\n",
       "      <th>latitude</th>\n",
       "      <th>longitude</th>\n",
       "      <th>Network</th>\n",
       "    </tr>\n",
       "  </thead>\n",
       "  <tbody>\n",
       "    <tr>\n",
       "      <th>11</th>\n",
       "      <td>TA00007</td>\n",
       "      <td>7.188273</td>\n",
       "      <td>-2.097477</td>\n",
       "      <td>TAHMO</td>\n",
       "    </tr>\n",
       "    <tr>\n",
       "      <th>12</th>\n",
       "      <td>TA00010</td>\n",
       "      <td>7.389595</td>\n",
       "      <td>-2.185991</td>\n",
       "      <td>TAHMO</td>\n",
       "    </tr>\n",
       "    <tr>\n",
       "      <th>13</th>\n",
       "      <td>TA00011</td>\n",
       "      <td>6.985705</td>\n",
       "      <td>-2.396092</td>\n",
       "      <td>TAHMO</td>\n",
       "    </tr>\n",
       "    <tr>\n",
       "      <th>14</th>\n",
       "      <td>TA00013</td>\n",
       "      <td>5.469601</td>\n",
       "      <td>-1.908534</td>\n",
       "      <td>TAHMO</td>\n",
       "    </tr>\n",
       "    <tr>\n",
       "      <th>15</th>\n",
       "      <td>TA00014</td>\n",
       "      <td>6.345287</td>\n",
       "      <td>-2.826350</td>\n",
       "      <td>TAHMO</td>\n",
       "    </tr>\n",
       "    <tr>\n",
       "      <th>...</th>\n",
       "      <td>...</td>\n",
       "      <td>...</td>\n",
       "      <td>...</td>\n",
       "      <td>...</td>\n",
       "    </tr>\n",
       "    <tr>\n",
       "      <th>206</th>\n",
       "      <td>Aniabisi Middleslope</td>\n",
       "      <td>-0.912185</td>\n",
       "      <td>10.845716</td>\n",
       "      <td>WASCAL</td>\n",
       "    </tr>\n",
       "    <tr>\n",
       "      <th>207</th>\n",
       "      <td>Aniabisi Upslope</td>\n",
       "      <td>-0.910629</td>\n",
       "      <td>10.847251</td>\n",
       "      <td>WASCAL</td>\n",
       "    </tr>\n",
       "    <tr>\n",
       "      <th>208</th>\n",
       "      <td>Bongo Atampisi</td>\n",
       "      <td>-0.826477</td>\n",
       "      <td>10.915014</td>\n",
       "      <td>WASCAL</td>\n",
       "    </tr>\n",
       "    <tr>\n",
       "      <th>209</th>\n",
       "      <td>Bongo Soe</td>\n",
       "      <td>-0.782754</td>\n",
       "      <td>10.972921</td>\n",
       "      <td>WASCAL</td>\n",
       "    </tr>\n",
       "    <tr>\n",
       "      <th>210</th>\n",
       "      <td>Manyoro</td>\n",
       "      <td>-0.995891</td>\n",
       "      <td>10.981431</td>\n",
       "      <td>WASCAL</td>\n",
       "    </tr>\n",
       "  </tbody>\n",
       "</table>\n",
       "<p>200 rows × 4 columns</p>\n",
       "</div>"
      ],
      "text/plain": [
       "                  Station  latitude  longitude Network\n",
       "11                TA00007  7.188273  -2.097477   TAHMO\n",
       "12                TA00010  7.389595  -2.185991   TAHMO\n",
       "13                TA00011  6.985705  -2.396092   TAHMO\n",
       "14                TA00013  5.469601  -1.908534   TAHMO\n",
       "15                TA00014  6.345287  -2.826350   TAHMO\n",
       "..                    ...       ...        ...     ...\n",
       "206  Aniabisi Middleslope -0.912185  10.845716  WASCAL\n",
       "207      Aniabisi Upslope -0.910629  10.847251  WASCAL\n",
       "208        Bongo Atampisi -0.826477  10.915014  WASCAL\n",
       "209             Bongo Soe -0.782754  10.972921  WASCAL\n",
       "210               Manyoro -0.995891  10.981431  WASCAL\n",
       "\n",
       "[200 rows x 4 columns]"
      ]
     },
     "execution_count": 11,
     "metadata": {},
     "output_type": "execute_result"
    }
   ],
   "source": [
    "df_stations=df_stations.iloc[11:]\n",
    "df_stations"
   ]
  },
  {
   "cell_type": "code",
   "execution_count": 12,
   "id": "b1dee54f-68f0-4748-9c73-ea732f5389c0",
   "metadata": {},
   "outputs": [
    {
     "name": "stderr",
     "output_type": "stream",
     "text": [
      "  0%|                                                                                          | 0/200 [00:00<?, ?it/s]"
     ]
    },
    {
     "name": "stdout",
     "output_type": "stream",
     "text": [
      "11\n"
     ]
    },
    {
     "name": "stderr",
     "output_type": "stream",
     "text": [
      "  0%|▎                                                                         | 1/200 [1:54:29<379:44:54, 6869.82s/it]"
     ]
    },
    {
     "name": "stdout",
     "output_type": "stream",
     "text": [
      "12\n"
     ]
    },
    {
     "name": "stderr",
     "output_type": "stream",
     "text": [
      "  1%|▋                                                                         | 2/200 [4:14:35<427:31:20, 7773.14s/it]"
     ]
    },
    {
     "name": "stdout",
     "output_type": "stream",
     "text": [
      "13\n"
     ]
    },
    {
     "name": "stderr",
     "output_type": "stream",
     "text": [
      "  2%|█                                                                         | 3/200 [6:34:19<440:37:45, 8052.11s/it]"
     ]
    },
    {
     "name": "stdout",
     "output_type": "stream",
     "text": [
      "14\n"
     ]
    },
    {
     "name": "stderr",
     "output_type": "stream",
     "text": [
      "  2%|█▍                                                                        | 4/200 [8:46:33<435:51:46, 8005.64s/it]"
     ]
    },
    {
     "name": "stdout",
     "output_type": "stream",
     "text": [
      "15\n"
     ]
    },
    {
     "name": "stderr",
     "output_type": "stream",
     "text": [
      "  2%|█▊                                                                       | 5/200 [11:06:13<440:56:39, 8140.51s/it]"
     ]
    },
    {
     "name": "stdout",
     "output_type": "stream",
     "text": [
      "16\n"
     ]
    },
    {
     "name": "stderr",
     "output_type": "stream",
     "text": [
      "  3%|██▏                                                                      | 6/200 [12:49:09<402:41:18, 7472.57s/it]"
     ]
    },
    {
     "name": "stdout",
     "output_type": "stream",
     "text": [
      "17\n"
     ]
    },
    {
     "name": "stderr",
     "output_type": "stream",
     "text": [
      "  4%|██▌                                                                      | 7/200 [15:09:12<416:54:49, 7776.63s/it]"
     ]
    },
    {
     "name": "stdout",
     "output_type": "stream",
     "text": [
      "18\n"
     ]
    },
    {
     "name": "stderr",
     "output_type": "stream",
     "text": [
      "  4%|██▉                                                                      | 8/200 [17:26:51<422:57:25, 7930.44s/it]"
     ]
    },
    {
     "name": "stdout",
     "output_type": "stream",
     "text": [
      "19\n"
     ]
    },
    {
     "name": "stderr",
     "output_type": "stream",
     "text": [
      "  4%|███▎                                                                     | 9/200 [20:57:56<499:16:17, 9410.36s/it]"
     ]
    },
    {
     "name": "stdout",
     "output_type": "stream",
     "text": [
      "20\n"
     ]
    },
    {
     "name": "stderr",
     "output_type": "stream",
     "text": [
      "  5%|███▌                                                                   | 10/200 [24:14:03<535:03:52, 10138.07s/it]"
     ]
    },
    {
     "name": "stdout",
     "output_type": "stream",
     "text": [
      "21\n"
     ]
    },
    {
     "name": "stderr",
     "output_type": "stream",
     "text": [
      "  6%|███▉                                                                   | 11/200 [28:06:24<593:21:21, 11302.02s/it]"
     ]
    },
    {
     "name": "stdout",
     "output_type": "stream",
     "text": [
      "22\n"
     ]
    },
    {
     "name": "stderr",
     "output_type": "stream",
     "text": [
      "  6%|████▎                                                                  | 12/200 [30:36:08<553:22:45, 10596.62s/it]"
     ]
    },
    {
     "name": "stdout",
     "output_type": "stream",
     "text": [
      "23\n"
     ]
    },
    {
     "name": "stderr",
     "output_type": "stream",
     "text": [
      "  6%|████▌                                                                  | 13/200 [33:10:56<529:51:15, 10200.40s/it]"
     ]
    },
    {
     "name": "stdout",
     "output_type": "stream",
     "text": [
      "24\n"
     ]
    },
    {
     "name": "stderr",
     "output_type": "stream",
     "text": [
      "  7%|█████                                                                   | 14/200 [35:41:42<509:00:09, 9851.66s/it]"
     ]
    },
    {
     "name": "stdout",
     "output_type": "stream",
     "text": [
      "25\n"
     ]
    },
    {
     "name": "stderr",
     "output_type": "stream",
     "text": [
      "  8%|█████▍                                                                  | 15/200 [38:13:46<494:59:02, 9632.12s/it]"
     ]
    },
    {
     "name": "stdout",
     "output_type": "stream",
     "text": [
      "26\n"
     ]
    },
    {
     "name": "stderr",
     "output_type": "stream",
     "text": [
      "  8%|█████▊                                                                  | 16/200 [40:46:25<485:01:45, 9489.70s/it]"
     ]
    },
    {
     "name": "stdout",
     "output_type": "stream",
     "text": [
      "27\n"
     ]
    },
    {
     "name": "stderr",
     "output_type": "stream",
     "text": [
      "  8%|██████                                                                  | 17/200 [43:10:51<469:48:40, 9242.19s/it]"
     ]
    },
    {
     "name": "stdout",
     "output_type": "stream",
     "text": [
      "28\n"
     ]
    },
    {
     "name": "stderr",
     "output_type": "stream",
     "text": [
      "  9%|██████▍                                                                 | 18/200 [45:35:36<458:46:22, 9074.63s/it]"
     ]
    },
    {
     "name": "stdout",
     "output_type": "stream",
     "text": [
      "29\n"
     ]
    },
    {
     "name": "stderr",
     "output_type": "stream",
     "text": [
      " 10%|██████▊                                                                 | 19/200 [47:57:33<447:49:48, 8907.12s/it]"
     ]
    },
    {
     "name": "stdout",
     "output_type": "stream",
     "text": [
      "30\n"
     ]
    },
    {
     "name": "stderr",
     "output_type": "stream",
     "text": [
      " 10%|███████▏                                                                | 20/200 [50:26:07<445:28:04, 8909.36s/it]"
     ]
    },
    {
     "name": "stdout",
     "output_type": "stream",
     "text": [
      "31\n"
     ]
    },
    {
     "name": "stderr",
     "output_type": "stream",
     "text": [
      " 10%|███████▌                                                                | 21/200 [53:00:11<447:59:15, 9009.81s/it]"
     ]
    },
    {
     "name": "stdout",
     "output_type": "stream",
     "text": [
      "32\n"
     ]
    },
    {
     "name": "stderr",
     "output_type": "stream",
     "text": [
      " 11%|███████▉                                                                | 22/200 [55:39:28<453:35:46, 9173.86s/it]"
     ]
    },
    {
     "name": "stdout",
     "output_type": "stream",
     "text": [
      "33\n"
     ]
    },
    {
     "name": "stderr",
     "output_type": "stream",
     "text": [
      " 12%|████████▎                                                               | 23/200 [58:13:22<451:56:34, 9192.06s/it]"
     ]
    },
    {
     "name": "stdout",
     "output_type": "stream",
     "text": [
      "34\n"
     ]
    },
    {
     "name": "stderr",
     "output_type": "stream",
     "text": [
      " 12%|████████▋                                                               | 24/200 [61:01:58<462:56:19, 9469.20s/it]"
     ]
    },
    {
     "name": "stdout",
     "output_type": "stream",
     "text": [
      "35\n"
     ]
    },
    {
     "name": "stderr",
     "output_type": "stream",
     "text": [
      " 12%|█████████                                                               | 25/200 [63:37:27<458:16:11, 9427.27s/it]"
     ]
    },
    {
     "name": "stdout",
     "output_type": "stream",
     "text": [
      "36\n"
     ]
    },
    {
     "name": "stderr",
     "output_type": "stream",
     "text": [
      " 13%|█████████▏                                                             | 26/200 [67:22:45<514:58:01, 10654.49s/it]"
     ]
    },
    {
     "name": "stdout",
     "output_type": "stream",
     "text": [
      "37\n"
     ]
    },
    {
     "name": "stderr",
     "output_type": "stream",
     "text": [
      " 14%|█████████▌                                                             | 27/200 [70:32:52<522:51:21, 10880.24s/it]"
     ]
    },
    {
     "name": "stdout",
     "output_type": "stream",
     "text": [
      "38\n"
     ]
    },
    {
     "name": "stderr",
     "output_type": "stream",
     "text": [
      " 14%|█████████▉                                                             | 28/200 [72:57:55<488:37:27, 10227.02s/it]"
     ]
    },
    {
     "name": "stdout",
     "output_type": "stream",
     "text": [
      "39\n"
     ]
    },
    {
     "name": "stderr",
     "output_type": "stream",
     "text": [
      " 14%|██████████▍                                                             | 29/200 [75:35:37<474:53:20, 9997.66s/it]"
     ]
    },
    {
     "name": "stdout",
     "output_type": "stream",
     "text": [
      "40\n"
     ]
    },
    {
     "name": "stderr",
     "output_type": "stream",
     "text": [
      " 15%|██████████▊                                                             | 30/200 [78:05:34<457:55:58, 9697.40s/it]"
     ]
    },
    {
     "name": "stdout",
     "output_type": "stream",
     "text": [
      "41\n"
     ]
    },
    {
     "name": "stderr",
     "output_type": "stream",
     "text": [
      " 16%|███████████▏                                                            | 31/200 [80:39:38<448:51:11, 9561.37s/it]"
     ]
    },
    {
     "name": "stdout",
     "output_type": "stream",
     "text": [
      "42\n"
     ]
    },
    {
     "name": "stderr",
     "output_type": "stream",
     "text": [
      " 16%|███████████▌                                                            | 32/200 [83:15:43<443:26:31, 9502.33s/it]"
     ]
    },
    {
     "name": "stdout",
     "output_type": "stream",
     "text": [
      "43\n"
     ]
    },
    {
     "name": "stderr",
     "output_type": "stream",
     "text": [
      " 16%|███████████▉                                                            | 33/200 [85:50:08<437:29:57, 9431.12s/it]"
     ]
    },
    {
     "name": "stdout",
     "output_type": "stream",
     "text": [
      "44\n"
     ]
    },
    {
     "name": "stderr",
     "output_type": "stream",
     "text": [
      " 17%|████████████▏                                                           | 34/200 [88:23:40<431:51:29, 9365.60s/it]"
     ]
    },
    {
     "name": "stdout",
     "output_type": "stream",
     "text": [
      "45\n"
     ]
    },
    {
     "name": "stderr",
     "output_type": "stream",
     "text": [
      " 17%|████████████▏                                                           | 34/200 [89:30:05<436:58:40, 9476.63s/it]\n"
     ]
    },
    {
     "ename": "KeyboardInterrupt",
     "evalue": "",
     "output_type": "error",
     "traceback": [
      "\u001b[1;31m---------------------------------------------------------------------------\u001b[0m",
      "\u001b[1;31mKeyboardInterrupt\u001b[0m                         Traceback (most recent call last)",
      "Cell \u001b[1;32mIn[12], line 13\u001b[0m\n\u001b[0;32m     10\u001b[0m filepath \u001b[38;5;241m=\u001b[39m os\u001b[38;5;241m.\u001b[39mpath\u001b[38;5;241m.\u001b[39mjoin(save_folder, filename)\n\u001b[0;32m     11\u001b[0m time_series \u001b[38;5;241m=\u001b[39m dts\u001b[38;5;241m.\u001b[39msel(latitude\u001b[38;5;241m=\u001b[39mrow[\u001b[38;5;124m'\u001b[39m\u001b[38;5;124mlatitude\u001b[39m\u001b[38;5;124m'\u001b[39m], longitude\u001b[38;5;241m=\u001b[39mrow[\u001b[38;5;124m'\u001b[39m\u001b[38;5;124mlongitude\u001b[39m\u001b[38;5;124m'\u001b[39m], \n\u001b[0;32m     12\u001b[0m                             method\u001b[38;5;241m=\u001b[39m\u001b[38;5;124m'\u001b[39m\u001b[38;5;124mnearest\u001b[39m\u001b[38;5;124m'\u001b[39m) \u001b[38;5;66;03m#Method: Nearest pixel\u001b[39;00m\n\u001b[1;32m---> 13\u001b[0m \u001b[43mtime_series\u001b[49m\u001b[38;5;241;43m.\u001b[39;49m\u001b[43mto_dataframe\u001b[49m\u001b[43m(\u001b[49m\u001b[43m)\u001b[49m\u001b[38;5;241m.\u001b[39mto_csv(filepath)\n",
      "File \u001b[1;32m~\\Miniconda3\\envs\\phd\\lib\\site-packages\\xarray\\core\\dataset.py:6208\u001b[0m, in \u001b[0;36mDataset.to_dataframe\u001b[1;34m(self, dim_order)\u001b[0m\n\u001b[0;32m   6180\u001b[0m \u001b[38;5;124;03m\"\"\"Convert this dataset into a pandas.DataFrame.\u001b[39;00m\n\u001b[0;32m   6181\u001b[0m \n\u001b[0;32m   6182\u001b[0m \u001b[38;5;124;03mNon-index variables in this dataset form the columns of the\u001b[39;00m\n\u001b[1;32m   (...)\u001b[0m\n\u001b[0;32m   6203\u001b[0m \n\u001b[0;32m   6204\u001b[0m \u001b[38;5;124;03m\"\"\"\u001b[39;00m\n\u001b[0;32m   6206\u001b[0m ordered_dims \u001b[38;5;241m=\u001b[39m \u001b[38;5;28mself\u001b[39m\u001b[38;5;241m.\u001b[39m_normalize_dim_order(dim_order\u001b[38;5;241m=\u001b[39mdim_order)\n\u001b[1;32m-> 6208\u001b[0m \u001b[38;5;28;01mreturn\u001b[39;00m \u001b[38;5;28;43mself\u001b[39;49m\u001b[38;5;241;43m.\u001b[39;49m\u001b[43m_to_dataframe\u001b[49m\u001b[43m(\u001b[49m\u001b[43mordered_dims\u001b[49m\u001b[38;5;241;43m=\u001b[39;49m\u001b[43mordered_dims\u001b[49m\u001b[43m)\u001b[49m\n",
      "File \u001b[1;32m~\\Miniconda3\\envs\\phd\\lib\\site-packages\\xarray\\core\\dataset.py:6172\u001b[0m, in \u001b[0;36mDataset._to_dataframe\u001b[1;34m(self, ordered_dims)\u001b[0m\n\u001b[0;32m   6170\u001b[0m \u001b[38;5;28;01mdef\u001b[39;00m \u001b[38;5;21m_to_dataframe\u001b[39m(\u001b[38;5;28mself\u001b[39m, ordered_dims: Mapping[Any, \u001b[38;5;28mint\u001b[39m]):\n\u001b[0;32m   6171\u001b[0m     columns \u001b[38;5;241m=\u001b[39m [k \u001b[38;5;28;01mfor\u001b[39;00m k \u001b[38;5;129;01min\u001b[39;00m \u001b[38;5;28mself\u001b[39m\u001b[38;5;241m.\u001b[39mvariables \u001b[38;5;28;01mif\u001b[39;00m k \u001b[38;5;129;01mnot\u001b[39;00m \u001b[38;5;129;01min\u001b[39;00m \u001b[38;5;28mself\u001b[39m\u001b[38;5;241m.\u001b[39mdims]\n\u001b[1;32m-> 6172\u001b[0m     data \u001b[38;5;241m=\u001b[39m [\n\u001b[0;32m   6173\u001b[0m         \u001b[38;5;28mself\u001b[39m\u001b[38;5;241m.\u001b[39m_variables[k]\u001b[38;5;241m.\u001b[39mset_dims(ordered_dims)\u001b[38;5;241m.\u001b[39mvalues\u001b[38;5;241m.\u001b[39mreshape(\u001b[38;5;241m-\u001b[39m\u001b[38;5;241m1\u001b[39m)\n\u001b[0;32m   6174\u001b[0m         \u001b[38;5;28;01mfor\u001b[39;00m k \u001b[38;5;129;01min\u001b[39;00m columns\n\u001b[0;32m   6175\u001b[0m     ]\n\u001b[0;32m   6176\u001b[0m     index \u001b[38;5;241m=\u001b[39m \u001b[38;5;28mself\u001b[39m\u001b[38;5;241m.\u001b[39mcoords\u001b[38;5;241m.\u001b[39mto_index([\u001b[38;5;241m*\u001b[39mordered_dims])\n\u001b[0;32m   6177\u001b[0m     \u001b[38;5;28;01mreturn\u001b[39;00m pd\u001b[38;5;241m.\u001b[39mDataFrame(\u001b[38;5;28mdict\u001b[39m(\u001b[38;5;28mzip\u001b[39m(columns, data)), index\u001b[38;5;241m=\u001b[39mindex)\n",
      "File \u001b[1;32m~\\Miniconda3\\envs\\phd\\lib\\site-packages\\xarray\\core\\dataset.py:6173\u001b[0m, in \u001b[0;36m<listcomp>\u001b[1;34m(.0)\u001b[0m\n\u001b[0;32m   6170\u001b[0m \u001b[38;5;28;01mdef\u001b[39;00m \u001b[38;5;21m_to_dataframe\u001b[39m(\u001b[38;5;28mself\u001b[39m, ordered_dims: Mapping[Any, \u001b[38;5;28mint\u001b[39m]):\n\u001b[0;32m   6171\u001b[0m     columns \u001b[38;5;241m=\u001b[39m [k \u001b[38;5;28;01mfor\u001b[39;00m k \u001b[38;5;129;01min\u001b[39;00m \u001b[38;5;28mself\u001b[39m\u001b[38;5;241m.\u001b[39mvariables \u001b[38;5;28;01mif\u001b[39;00m k \u001b[38;5;129;01mnot\u001b[39;00m \u001b[38;5;129;01min\u001b[39;00m \u001b[38;5;28mself\u001b[39m\u001b[38;5;241m.\u001b[39mdims]\n\u001b[0;32m   6172\u001b[0m     data \u001b[38;5;241m=\u001b[39m [\n\u001b[1;32m-> 6173\u001b[0m         \u001b[38;5;28;43mself\u001b[39;49m\u001b[38;5;241;43m.\u001b[39;49m\u001b[43m_variables\u001b[49m\u001b[43m[\u001b[49m\u001b[43mk\u001b[49m\u001b[43m]\u001b[49m\u001b[38;5;241;43m.\u001b[39;49m\u001b[43mset_dims\u001b[49m\u001b[43m(\u001b[49m\u001b[43mordered_dims\u001b[49m\u001b[43m)\u001b[49m\u001b[38;5;241;43m.\u001b[39;49m\u001b[43mvalues\u001b[49m\u001b[38;5;241m.\u001b[39mreshape(\u001b[38;5;241m-\u001b[39m\u001b[38;5;241m1\u001b[39m)\n\u001b[0;32m   6174\u001b[0m         \u001b[38;5;28;01mfor\u001b[39;00m k \u001b[38;5;129;01min\u001b[39;00m columns\n\u001b[0;32m   6175\u001b[0m     ]\n\u001b[0;32m   6176\u001b[0m     index \u001b[38;5;241m=\u001b[39m \u001b[38;5;28mself\u001b[39m\u001b[38;5;241m.\u001b[39mcoords\u001b[38;5;241m.\u001b[39mto_index([\u001b[38;5;241m*\u001b[39mordered_dims])\n\u001b[0;32m   6177\u001b[0m     \u001b[38;5;28;01mreturn\u001b[39;00m pd\u001b[38;5;241m.\u001b[39mDataFrame(\u001b[38;5;28mdict\u001b[39m(\u001b[38;5;28mzip\u001b[39m(columns, data)), index\u001b[38;5;241m=\u001b[39mindex)\n",
      "File \u001b[1;32m~\\Miniconda3\\envs\\phd\\lib\\site-packages\\xarray\\core\\variable.py:598\u001b[0m, in \u001b[0;36mVariable.values\u001b[1;34m(self)\u001b[0m\n\u001b[0;32m    595\u001b[0m \u001b[38;5;129m@property\u001b[39m\n\u001b[0;32m    596\u001b[0m \u001b[38;5;28;01mdef\u001b[39;00m \u001b[38;5;21mvalues\u001b[39m(\u001b[38;5;28mself\u001b[39m):\n\u001b[0;32m    597\u001b[0m     \u001b[38;5;124;03m\"\"\"The variable's data as a numpy.ndarray\"\"\"\u001b[39;00m\n\u001b[1;32m--> 598\u001b[0m     \u001b[38;5;28;01mreturn\u001b[39;00m \u001b[43m_as_array_or_item\u001b[49m\u001b[43m(\u001b[49m\u001b[38;5;28;43mself\u001b[39;49m\u001b[38;5;241;43m.\u001b[39;49m\u001b[43m_data\u001b[49m\u001b[43m)\u001b[49m\n",
      "File \u001b[1;32m~\\Miniconda3\\envs\\phd\\lib\\site-packages\\xarray\\core\\variable.py:304\u001b[0m, in \u001b[0;36m_as_array_or_item\u001b[1;34m(data)\u001b[0m\n\u001b[0;32m    290\u001b[0m \u001b[38;5;28;01mdef\u001b[39;00m \u001b[38;5;21m_as_array_or_item\u001b[39m(data):\n\u001b[0;32m    291\u001b[0m     \u001b[38;5;124;03m\"\"\"Return the given values as a numpy array, or as an individual item if\u001b[39;00m\n\u001b[0;32m    292\u001b[0m \u001b[38;5;124;03m    it's a 0d datetime64 or timedelta64 array.\u001b[39;00m\n\u001b[0;32m    293\u001b[0m \n\u001b[1;32m   (...)\u001b[0m\n\u001b[0;32m    302\u001b[0m \u001b[38;5;124;03m    TODO: remove this (replace with np.asarray) once these issues are fixed\u001b[39;00m\n\u001b[0;32m    303\u001b[0m \u001b[38;5;124;03m    \"\"\"\u001b[39;00m\n\u001b[1;32m--> 304\u001b[0m     data \u001b[38;5;241m=\u001b[39m \u001b[43mnp\u001b[49m\u001b[38;5;241;43m.\u001b[39;49m\u001b[43masarray\u001b[49m\u001b[43m(\u001b[49m\u001b[43mdata\u001b[49m\u001b[43m)\u001b[49m\n\u001b[0;32m    305\u001b[0m     \u001b[38;5;28;01mif\u001b[39;00m data\u001b[38;5;241m.\u001b[39mndim \u001b[38;5;241m==\u001b[39m \u001b[38;5;241m0\u001b[39m:\n\u001b[0;32m    306\u001b[0m         \u001b[38;5;28;01mif\u001b[39;00m data\u001b[38;5;241m.\u001b[39mdtype\u001b[38;5;241m.\u001b[39mkind \u001b[38;5;241m==\u001b[39m \u001b[38;5;124m\"\u001b[39m\u001b[38;5;124mM\u001b[39m\u001b[38;5;124m\"\u001b[39m:\n",
      "File \u001b[1;32m~\\Miniconda3\\envs\\phd\\lib\\site-packages\\dask\\array\\core.py:1700\u001b[0m, in \u001b[0;36mArray.__array__\u001b[1;34m(self, dtype, **kwargs)\u001b[0m\n\u001b[0;32m   1699\u001b[0m \u001b[38;5;28;01mdef\u001b[39;00m \u001b[38;5;21m__array__\u001b[39m(\u001b[38;5;28mself\u001b[39m, dtype\u001b[38;5;241m=\u001b[39m\u001b[38;5;28;01mNone\u001b[39;00m, \u001b[38;5;241m*\u001b[39m\u001b[38;5;241m*\u001b[39mkwargs):\n\u001b[1;32m-> 1700\u001b[0m     x \u001b[38;5;241m=\u001b[39m \u001b[38;5;28;43mself\u001b[39;49m\u001b[38;5;241;43m.\u001b[39;49m\u001b[43mcompute\u001b[49m\u001b[43m(\u001b[49m\u001b[43m)\u001b[49m\n\u001b[0;32m   1701\u001b[0m     \u001b[38;5;28;01mif\u001b[39;00m dtype \u001b[38;5;129;01mand\u001b[39;00m x\u001b[38;5;241m.\u001b[39mdtype \u001b[38;5;241m!=\u001b[39m dtype:\n\u001b[0;32m   1702\u001b[0m         x \u001b[38;5;241m=\u001b[39m x\u001b[38;5;241m.\u001b[39mastype(dtype)\n",
      "File \u001b[1;32m~\\Miniconda3\\envs\\phd\\lib\\site-packages\\dask\\base.py:314\u001b[0m, in \u001b[0;36mDaskMethodsMixin.compute\u001b[1;34m(self, **kwargs)\u001b[0m\n\u001b[0;32m    290\u001b[0m \u001b[38;5;28;01mdef\u001b[39;00m \u001b[38;5;21mcompute\u001b[39m(\u001b[38;5;28mself\u001b[39m, \u001b[38;5;241m*\u001b[39m\u001b[38;5;241m*\u001b[39mkwargs):\n\u001b[0;32m    291\u001b[0m     \u001b[38;5;124;03m\"\"\"Compute this dask collection\u001b[39;00m\n\u001b[0;32m    292\u001b[0m \n\u001b[0;32m    293\u001b[0m \u001b[38;5;124;03m    This turns a lazy Dask collection into its in-memory equivalent.\u001b[39;00m\n\u001b[1;32m   (...)\u001b[0m\n\u001b[0;32m    312\u001b[0m \u001b[38;5;124;03m    dask.base.compute\u001b[39;00m\n\u001b[0;32m    313\u001b[0m \u001b[38;5;124;03m    \"\"\"\u001b[39;00m\n\u001b[1;32m--> 314\u001b[0m     (result,) \u001b[38;5;241m=\u001b[39m compute(\u001b[38;5;28mself\u001b[39m, traverse\u001b[38;5;241m=\u001b[39m\u001b[38;5;28;01mFalse\u001b[39;00m, \u001b[38;5;241m*\u001b[39m\u001b[38;5;241m*\u001b[39mkwargs)\n\u001b[0;32m    315\u001b[0m     \u001b[38;5;28;01mreturn\u001b[39;00m result\n",
      "File \u001b[1;32m~\\Miniconda3\\envs\\phd\\lib\\site-packages\\dask\\base.py:599\u001b[0m, in \u001b[0;36mcompute\u001b[1;34m(traverse, optimize_graph, scheduler, get, *args, **kwargs)\u001b[0m\n\u001b[0;32m    596\u001b[0m     keys\u001b[38;5;241m.\u001b[39mappend(x\u001b[38;5;241m.\u001b[39m__dask_keys__())\n\u001b[0;32m    597\u001b[0m     postcomputes\u001b[38;5;241m.\u001b[39mappend(x\u001b[38;5;241m.\u001b[39m__dask_postcompute__())\n\u001b[1;32m--> 599\u001b[0m results \u001b[38;5;241m=\u001b[39m schedule(dsk, keys, \u001b[38;5;241m*\u001b[39m\u001b[38;5;241m*\u001b[39mkwargs)\n\u001b[0;32m    600\u001b[0m \u001b[38;5;28;01mreturn\u001b[39;00m repack([f(r, \u001b[38;5;241m*\u001b[39ma) \u001b[38;5;28;01mfor\u001b[39;00m r, (f, a) \u001b[38;5;129;01min\u001b[39;00m \u001b[38;5;28mzip\u001b[39m(results, postcomputes)])\n",
      "File \u001b[1;32m~\\Miniconda3\\envs\\phd\\lib\\site-packages\\dask\\threaded.py:89\u001b[0m, in \u001b[0;36mget\u001b[1;34m(dsk, keys, cache, num_workers, pool, **kwargs)\u001b[0m\n\u001b[0;32m     86\u001b[0m     \u001b[38;5;28;01melif\u001b[39;00m \u001b[38;5;28misinstance\u001b[39m(pool, multiprocessing\u001b[38;5;241m.\u001b[39mpool\u001b[38;5;241m.\u001b[39mPool):\n\u001b[0;32m     87\u001b[0m         pool \u001b[38;5;241m=\u001b[39m MultiprocessingPoolExecutor(pool)\n\u001b[1;32m---> 89\u001b[0m results \u001b[38;5;241m=\u001b[39m get_async(\n\u001b[0;32m     90\u001b[0m     pool\u001b[38;5;241m.\u001b[39msubmit,\n\u001b[0;32m     91\u001b[0m     pool\u001b[38;5;241m.\u001b[39m_max_workers,\n\u001b[0;32m     92\u001b[0m     dsk,\n\u001b[0;32m     93\u001b[0m     keys,\n\u001b[0;32m     94\u001b[0m     cache\u001b[38;5;241m=\u001b[39mcache,\n\u001b[0;32m     95\u001b[0m     get_id\u001b[38;5;241m=\u001b[39m_thread_get_id,\n\u001b[0;32m     96\u001b[0m     pack_exception\u001b[38;5;241m=\u001b[39mpack_exception,\n\u001b[0;32m     97\u001b[0m     \u001b[38;5;241m*\u001b[39m\u001b[38;5;241m*\u001b[39mkwargs,\n\u001b[0;32m     98\u001b[0m )\n\u001b[0;32m    100\u001b[0m \u001b[38;5;66;03m# Cleanup pools associated to dead threads\u001b[39;00m\n\u001b[0;32m    101\u001b[0m \u001b[38;5;28;01mwith\u001b[39;00m pools_lock:\n",
      "File \u001b[1;32m~\\Miniconda3\\envs\\phd\\lib\\site-packages\\dask\\local.py:500\u001b[0m, in \u001b[0;36mget_async\u001b[1;34m(submit, num_workers, dsk, result, cache, get_id, rerun_exceptions_locally, pack_exception, raise_exception, callbacks, dumps, loads, chunksize, **kwargs)\u001b[0m\n\u001b[0;32m    498\u001b[0m \u001b[38;5;28;01mwhile\u001b[39;00m state[\u001b[38;5;124m\"\u001b[39m\u001b[38;5;124mwaiting\u001b[39m\u001b[38;5;124m\"\u001b[39m] \u001b[38;5;129;01mor\u001b[39;00m state[\u001b[38;5;124m\"\u001b[39m\u001b[38;5;124mready\u001b[39m\u001b[38;5;124m\"\u001b[39m] \u001b[38;5;129;01mor\u001b[39;00m state[\u001b[38;5;124m\"\u001b[39m\u001b[38;5;124mrunning\u001b[39m\u001b[38;5;124m\"\u001b[39m]:\n\u001b[0;32m    499\u001b[0m     fire_tasks(chunksize)\n\u001b[1;32m--> 500\u001b[0m     \u001b[38;5;28;01mfor\u001b[39;00m key, res_info, failed \u001b[38;5;129;01min\u001b[39;00m \u001b[43mqueue_get\u001b[49m\u001b[43m(\u001b[49m\u001b[43mqueue\u001b[49m\u001b[43m)\u001b[49m\u001b[38;5;241m.\u001b[39mresult():\n\u001b[0;32m    501\u001b[0m         \u001b[38;5;28;01mif\u001b[39;00m failed:\n\u001b[0;32m    502\u001b[0m             exc, tb \u001b[38;5;241m=\u001b[39m loads(res_info)\n",
      "File \u001b[1;32m~\\Miniconda3\\envs\\phd\\lib\\site-packages\\dask\\local.py:130\u001b[0m, in \u001b[0;36mqueue_get\u001b[1;34m(q)\u001b[0m\n\u001b[0;32m    128\u001b[0m \u001b[38;5;28;01mwhile\u001b[39;00m \u001b[38;5;28;01mTrue\u001b[39;00m:\n\u001b[0;32m    129\u001b[0m     \u001b[38;5;28;01mtry\u001b[39;00m:\n\u001b[1;32m--> 130\u001b[0m         \u001b[38;5;28;01mreturn\u001b[39;00m \u001b[43mq\u001b[49m\u001b[38;5;241;43m.\u001b[39;49m\u001b[43mget\u001b[49m\u001b[43m(\u001b[49m\u001b[43mblock\u001b[49m\u001b[38;5;241;43m=\u001b[39;49m\u001b[38;5;28;43;01mTrue\u001b[39;49;00m\u001b[43m,\u001b[49m\u001b[43m \u001b[49m\u001b[43mtimeout\u001b[49m\u001b[38;5;241;43m=\u001b[39;49m\u001b[38;5;241;43m0.1\u001b[39;49m\u001b[43m)\u001b[49m\n\u001b[0;32m    131\u001b[0m     \u001b[38;5;28;01mexcept\u001b[39;00m Empty:\n\u001b[0;32m    132\u001b[0m         \u001b[38;5;28;01mpass\u001b[39;00m\n",
      "File \u001b[1;32m~\\Miniconda3\\envs\\phd\\lib\\queue.py:180\u001b[0m, in \u001b[0;36mQueue.get\u001b[1;34m(self, block, timeout)\u001b[0m\n\u001b[0;32m    178\u001b[0m         \u001b[38;5;28;01mif\u001b[39;00m remaining \u001b[38;5;241m<\u001b[39m\u001b[38;5;241m=\u001b[39m \u001b[38;5;241m0.0\u001b[39m:\n\u001b[0;32m    179\u001b[0m             \u001b[38;5;28;01mraise\u001b[39;00m Empty\n\u001b[1;32m--> 180\u001b[0m         \u001b[38;5;28;43mself\u001b[39;49m\u001b[38;5;241;43m.\u001b[39;49m\u001b[43mnot_empty\u001b[49m\u001b[38;5;241;43m.\u001b[39;49m\u001b[43mwait\u001b[49m\u001b[43m(\u001b[49m\u001b[43mremaining\u001b[49m\u001b[43m)\u001b[49m\n\u001b[0;32m    181\u001b[0m item \u001b[38;5;241m=\u001b[39m \u001b[38;5;28mself\u001b[39m\u001b[38;5;241m.\u001b[39m_get()\n\u001b[0;32m    182\u001b[0m \u001b[38;5;28mself\u001b[39m\u001b[38;5;241m.\u001b[39mnot_full\u001b[38;5;241m.\u001b[39mnotify()\n",
      "File \u001b[1;32m~\\Miniconda3\\envs\\phd\\lib\\threading.py:324\u001b[0m, in \u001b[0;36mCondition.wait\u001b[1;34m(self, timeout)\u001b[0m\n\u001b[0;32m    322\u001b[0m \u001b[38;5;28;01melse\u001b[39;00m:\n\u001b[0;32m    323\u001b[0m     \u001b[38;5;28;01mif\u001b[39;00m timeout \u001b[38;5;241m>\u001b[39m \u001b[38;5;241m0\u001b[39m:\n\u001b[1;32m--> 324\u001b[0m         gotit \u001b[38;5;241m=\u001b[39m \u001b[43mwaiter\u001b[49m\u001b[38;5;241;43m.\u001b[39;49m\u001b[43macquire\u001b[49m\u001b[43m(\u001b[49m\u001b[38;5;28;43;01mTrue\u001b[39;49;00m\u001b[43m,\u001b[49m\u001b[43m \u001b[49m\u001b[43mtimeout\u001b[49m\u001b[43m)\u001b[49m\n\u001b[0;32m    325\u001b[0m     \u001b[38;5;28;01melse\u001b[39;00m:\n\u001b[0;32m    326\u001b[0m         gotit \u001b[38;5;241m=\u001b[39m waiter\u001b[38;5;241m.\u001b[39macquire(\u001b[38;5;28;01mFalse\u001b[39;00m)\n",
      "\u001b[1;31mKeyboardInterrupt\u001b[0m: "
     ]
    }
   ],
   "source": [
    "nc_folder = r\"E:\\WaPORQA\\ERA5\\Processed\"\n",
    "save_folder = r\".\\data\\ERA5\\hourly\"\n",
    "data_fhs = glob.glob(os.path.join(nc_folder, \"*.nc\"))\n",
    "dts = xr.open_mfdataset(data_fhs)\n",
    "req_vars=[\"t_air\", \"p_air\",\"u\",\"vp\",\"ra\"]     \n",
    "\n",
    "for i,row in tqdm(df_stations.iterrows(),total = df_stations.shape[0]):        \n",
    "    print(i)\n",
    "    filename = row[\"Network\"]+\"_\"+row['Station']+\".csv\"\n",
    "    filepath = os.path.join(save_folder, filename)\n",
    "    time_series = dts.sel(latitude=row['latitude'], longitude=row['longitude'], \n",
    "                                method='nearest') #Method: Nearest pixel\n",
    "    time_series.to_dataframe().to_csv(filepath)\n",
    "    "
   ]
  },
  {
   "cell_type": "code",
   "execution_count": null,
   "id": "de8c468b-86a1-4b25-815e-028a8c9b2e92",
   "metadata": {},
   "outputs": [],
   "source": [
    "i"
   ]
  },
  {
   "cell_type": "markdown",
   "id": "a459b782-2095-4e57-b46f-a611831bab3e",
   "metadata": {
    "tags": []
   },
   "source": [
    "# AgERA5 (daily)"
   ]
  },
  {
   "cell_type": "code",
   "execution_count": null,
   "id": "4d9f6286-47a4-4981-9f41-abe38e283de9",
   "metadata": {},
   "outputs": [],
   "source": [
    "nc_folder = r\"E:\\WaPORQA\\AgERA5\\Processed\\Daily\"\n",
    "save_folder = r\".\\data\\AgERA5\"\n",
    "data_fhs = glob.glob(os.path.join(nc_folder, \"*.nc\"))\n",
    "dts = xr.open_mfdataset(data_fhs)\n",
    "req_vars=[\"t_air\",\"u\",\"vp\",\"ra\"]     \n",
    "\n",
    "for i,row in df_stations.iterrows():\n",
    "    filename = row[\"Network\"]+\"_\"+row['Station']+\".csv\"\n",
    "    filepath = os.path.join(save_folder, filename)\n",
    "    time_series = dts.sel(lat=row['latitude'], lon=row['longitude'], \n",
    "                                method='nearest') #Method: Nearest pixel\n",
    "    time_series.to_dataframe().to_csv(filepath)\n",
    "    "
   ]
  },
  {
   "cell_type": "markdown",
   "id": "7c7294f4-b4cc-46a6-9e45-c62f9ba42289",
   "metadata": {
    "tags": []
   },
   "source": [
    "# MSG (daily)"
   ]
  },
  {
   "cell_type": "code",
   "execution_count": null,
   "id": "d58b1df0-1dd1-4540-9bd5-bfe6d8c54d10",
   "metadata": {},
   "outputs": [],
   "source": [
    "nc_folder = r\"E:\\WaPORQA\\MSG\\MDIDSSF\\Processed\\Daily\"\n",
    "save_folder = r\".\\data\\MSG\"\n",
    "data_fhs = glob.glob(os.path.join(nc_folder, \"*.nc\"))\n",
    "dts = xr.open_mfdataset(data_fhs)\n",
    "req_vars=[\"ra\"]     \n",
    "\n",
    "for i,row in df_stations.iterrows():\n",
    "    filename = row[\"Network\"]+\"_\"+row['Station']+\".csv\"\n",
    "    filepath = os.path.join(save_folder, filename)\n",
    "    time_series = dts.sel(lat=row['latitude'], lon=row['longitude'], \n",
    "                                method='nearest') #Method: Nearest pixel\n",
    "    time_series.to_dataframe().to_csv(filepath)\n",
    "    "
   ]
  },
  {
   "cell_type": "code",
   "execution_count": null,
   "id": "558158a8-34c2-427e-b7c1-a941b21b42ae",
   "metadata": {},
   "outputs": [],
   "source": []
  }
 ],
 "metadata": {
  "kernelspec": {
   "display_name": "Python [conda env:base] *",
   "language": "python",
   "name": "conda-base-py"
  },
  "language_info": {
   "codemirror_mode": {
    "name": "ipython",
    "version": 3
   },
   "file_extension": ".py",
   "mimetype": "text/x-python",
   "name": "python",
   "nbconvert_exporter": "python",
   "pygments_lexer": "ipython3",
   "version": "3.10.14"
  }
 },
 "nbformat": 4,
 "nbformat_minor": 5
}
